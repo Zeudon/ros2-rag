{
 "cells": [
  {
   "cell_type": "code",
   "execution_count": 9,
   "metadata": {},
   "outputs": [
    {
     "name": "stdout",
     "output_type": "stream",
     "text": [
      "* Running on local URL:  http://127.0.0.1:7868\n",
      "\n",
      "To create a public link, set `share=True` in `launch()`.\n"
     ]
    },
    {
     "data": {
      "text/html": [
       "<div><iframe src=\"http://127.0.0.1:7868/\" width=\"100%\" height=\"500\" allow=\"autoplay; camera; microphone; clipboard-read; clipboard-write;\" frameborder=\"0\" allowfullscreen></iframe></div>"
      ],
      "text/plain": [
       "<IPython.core.display.HTML object>"
      ]
     },
     "metadata": {},
     "output_type": "display_data"
    },
    {
     "data": {
      "text/plain": []
     },
     "execution_count": 9,
     "metadata": {},
     "output_type": "execute_result"
    }
   ],
   "source": [
    "import gradio as gr\n",
    "\n",
    "# Define the questions and their corresponding answers\n",
    "questions_answers = {\n",
    "    \"What is AI?\": \"Artificial Intelligence (AI) is the simulation of human intelligence in machines programmed to think and act like humans.\",\n",
    "    \"How does machine learning work?\": \"Machine learning works by training algorithms on data to recognize patterns and make predictions or decisions without explicit programming. Random words to test if the words get wrapped to the next line.\",\n",
    "    \"What is deep learning?\": \"Deep learning is a subset of machine learning involving neural networks with many layers that learn hierarchical features from data.\",\n",
    "    \"What are neural networks?\": \"Neural networks are computational models inspired by the human brain, used to recognize patterns and solve complex problems.\",\n",
    "    \"What is the difference between supervised and unsupervised learning?\": (\n",
    "        \"Supervised learning involves labeled data to train models, \"\n",
    "        \"while unsupervised learning works with unlabeled data to find hidden patterns or structure.\"\n",
    "    )\n",
    "}\n",
    "\n",
    "# Function to fetch the answer for a selected question\n",
    "def get_answer(question):\n",
    "    return questions_answers.get(question, \"Question not found.\")\n",
    "\n",
    "# Create the Gradio interface\n",
    "with gr.Blocks() as app:\n",
    "    gr.Markdown(\"# ROS2 Query App\")\n",
    "    gr.Markdown(\"### Select a question from the dropdown menu to get the answer\")\n",
    "    \n",
    "    # Dropdown menu for questions\n",
    "    question_dropdown = gr.Dropdown(\n",
    "        label=\"Query\",\n",
    "        choices=list(questions_answers.keys()),\n",
    "        value=list(questions_answers.keys())[0]\n",
    "    )\n",
    "    # Button to trigger answer display\n",
    "    submit_button = gr.Button(\"Submit\")\n",
    "    \n",
    "    # Output text box for the answer\n",
    "    answer_output = gr.Textbox(\n",
    "        label=\"Answer\",\n",
    "        interactive=False\n",
    "    )\n",
    "    \n",
    "    \n",
    "    \n",
    "    # Link dropdown and button to the function\n",
    "    submit_button.click(get_answer, inputs=question_dropdown, outputs=answer_output)\n",
    "\n",
    "# Launch the app\n",
    "app.launch()\n",
    "\n"
   ]
  }
 ],
 "metadata": {
  "kernelspec": {
   "display_name": "Python 3",
   "language": "python",
   "name": "python3"
  },
  "language_info": {
   "codemirror_mode": {
    "name": "ipython",
    "version": 3
   },
   "file_extension": ".py",
   "mimetype": "text/x-python",
   "name": "python",
   "nbconvert_exporter": "python",
   "pygments_lexer": "ipython3",
   "version": "3.10.12"
  }
 },
 "nbformat": 4,
 "nbformat_minor": 2
}
