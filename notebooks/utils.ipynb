{
 "cells": [
  {
   "cell_type": "code",
   "execution_count": null,
   "metadata": {},
   "outputs": [],
   "source": [
    "import yaml\n",
    "\n",
    "def load_secrets(file_path=\"./../app/localsecrets.yml\"):\n",
    "    try:\n",
    "        with open(file_path, \"r\") as file:\n",
    "            secrets = yaml.safe_load(file)\n",
    "        return secrets\n",
    "    except FileNotFoundError:\n",
    "        raise FileNotFoundError(f\"Secrets file {file_path} not found.\")\n",
    "    except yaml.YAMLError as e:\n",
    "        raise RuntimeError(f\"Error parsing YAML file: {e}\")\n",
    "\n",
    "# Example usage\n",
    "secrets = load_secrets()\n",
    "\n",
    "# Access values\n",
    "api_key_youtube = secrets[\"api_keys\"][\"youtube\"]\n",
    "print(f\"YouTube API Key: {api_key_youtube}\")"
   ]
  }
 ],
 "metadata": {
  "kernelspec": {
   "display_name": "Python 3",
   "language": "python",
   "name": "python3"
  },
  "language_info": {
   "codemirror_mode": {
    "name": "ipython",
    "version": 3
   },
   "file_extension": ".py",
   "mimetype": "text/x-python",
   "name": "python",
   "nbconvert_exporter": "python",
   "pygments_lexer": "ipython3",
   "version": "3.10.12"
  }
 },
 "nbformat": 4,
 "nbformat_minor": 2
}
