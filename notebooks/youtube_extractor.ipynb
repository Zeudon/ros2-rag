{
 "cells": [
  {
   "cell_type": "code",
   "execution_count": null,
   "metadata": {},
   "outputs": [
    {
     "name": "stdout",
     "output_type": "stream",
     "text": [
      "[youtube] Extracting URL: https://www.youtube.com/watch?v=T-D1OfcDW1M&ab_channel=IBMTechnology\n",
      "[youtube] T-D1OfcDW1M: Downloading webpage\n",
      "[youtube] T-D1OfcDW1M: Downloading ios player API JSON\n",
      "[youtube] T-D1OfcDW1M: Downloading mweb player API JSON\n",
      "[youtube] T-D1OfcDW1M: Downloading m3u8 information\n"
     ]
    },
    {
     "name": "stderr",
     "output_type": "stream",
     "text": [
      "WARNING: ffmpeg not found. The downloaded format may not be the best available. Installing ffmpeg is strongly recommended: https://github.com/yt-dlp/yt-dlp#dependencies\n"
     ]
    },
    {
     "name": "stdout",
     "output_type": "stream",
     "text": [
      "Processed and stored data for video: T-D1OfcDW1M\n",
      "[{'url': 'https://www.youtube.com/watch?v=T-D1OfcDW1M&ab_channel=IBMTechnology', 'source': 'YouTube', 'video_id': 'T-D1OfcDW1M', 'transcript': 'Large language models. They are everywhere. They get some things amazingly right and other things very interestingly wrong. My name\\xa0is Marina Danilevsky. I am a Senior Research Scientist here at IBM Research. And I want\\xa0to tell you about a framework to help large language models be more accurate and more up to\\xa0date: Retrieval-Augmented Generation, or RAG. Let\\'s just talk about the \"Generation\" part for a\\xa0minute. So forget the \"Retrieval-Augmented\". So the\\xa0generation, this refers to large language models,\\xa0or LLMs, that generate text in response to a user query, referred to as a prompt. These\\xa0models can have some undesirable behavior. I want to tell you an anecdote to illustrate this. So my kids, they recently asked me this question: \"In our solar system, what planet has the most\\xa0moons?\" And my response was, “Oh, that\\'s really great that you\\'re asking this question. I loved\\xa0space when I was your age.” Of course, that was like 30 years ago. But I know this! I read an\\xa0article and the article said that it was Jupiter and 88 moons. So that\\'s the answer. Now, actually,\\xa0there\\'s a couple of things wrong with my answer. First of all, I have no source to support what\\xa0I\\'m saying. So even though I confidently said “I read an article, I know the answer!”, I\\'m not\\xa0sourcing it. I\\'m giving the answer off the top of my head. And also, I actually haven\\'t kept up with\\xa0this for awhile, and my answer is out of date. So we have two problems here. One is no source.\\xa0And the second problem is that I am out of date.\\xa0\\xa0 And these, in fact, are two behaviors that are\\xa0often observed as problematic when interacting with large language models. They’re LLM\\xa0challenges. Now, what would have happened if I\\'d taken a beat and first gone and looked\\xa0up the answer on a reputable source like NASA? Well, then I would have been able to say, “Ah,\\xa0okay! So the answer is Saturn with 146 moons.” And in fact, this keeps changing because scientists\\xa0keep on discovering more and more moons. So I have now grounded my answer in something more\\xa0\\nbelievable. I have not hallucinated or made up an answer. Oh, by the way, I didn\\'t leak personal\\xa0information about how long ago it\\'s been since I was obsessed with space. All right, so what does\\xa0this have to do with large language models? Well, how would a large language model have answered\\xa0this question? So let\\'s say that I have a user asking this question about moons. A large language\\xa0model would confidently say, OK, I have been trained and from what I know in my parameters\\xa0during my training, the answer is Jupiter. The answer is wrong. But, you know, we don\\'t know. The large language model is very confident in what it answered. Now, what happens when you add this\\xa0retrieval augmented part here? What does that mean? That means that now, instead of just relying\\xa0on what the LLM knows, we are adding a content store. This could be open like the internet. This\\xa0can be closed like some collection of documents, collection of policies, whatever. The point,\\xa0though, now is that the LLM first goes and talks to the content store and says,\\xa0“Hey, can you retrieve for me information that is relevant to what the user\\'s\\xa0query was?” And now, with this retrieval-augmented answer, it\\'s not Jupiter anymore. We know that\\xa0it is Saturn. What does this look like? Well, first user prompts the LLM\\xa0with their question. They say, this is what my question was. And originally,\\xa0if we\\'re just talking to a generative model, the generative model says, “Oh, okay, I know\\xa0the response. Here it is. Here\\'s my response.”\\xa0\\xa0 But now in the RAG framework, the generative\\xa0model actually has an instruction that says, \"No, no, no.\" \"First, go and retrieve\\xa0relevant content.\" \"Combine that with the user\\'s question and only then generate the\\xa0answer.\" So the prompt now has three parts: the instruction to pay attention to, the retrieved\\xa0content, together with the user\\'s question. Now give a response. And in fact, now you can give\\xa0evidence for why your response was what it was.\\xa0\\xa0 So now hopefully you can see, how does RAG help the two LLM challenges that I had mentioned before?\\xa0\\xa0 So first of all, I\\'ll start with the out of\\xa0date part. Now, instead of having to retrain your model, if new information comes up, like, hey,\\xa0we found some more moons-- now to Jupiter again, maybe it\\'ll be Saturn again in the future. All\\xa0you have to do is you augment your data store with new information, update information. So now the next time that a user comes and asks the question, we\\'re ready. We just go ahead and retrieve the most up to date information. The second problem, source. Well, the large language model is now being instructed to pay attention to primary source data before giving its response. And in fact, now being able to give evidence. This makes it less likely to hallucinate or to leak data because it is less likely to rely only on information that it learned during training. It also allows us to get the model to have a behavior that can be very positive, which is knowing when to say, “I don\\'t know.” If\\xa0the user\\'s question cannot be reliably answered based on your data store, the model should say,\\xa0\"I don\\'t know,\" instead of making up something that is believable and may mislead the user. This\\xa0can have a negative effect as well though, because if the retriever is not sufficiently\\xa0good to give the large language model the best, most high-quality grounding information, then\\xa0maybe the user\\'s query that is answerable doesn\\'t get an answer. So this is actually why lots\\xa0of folks, including many of us here at IBM, are working the problem on both sides. We are both\\xa0working to improve the retriever to give the large language model the best quality data on which\\xa0to ground its response, and also the generative part so that the LLM can give the richest, best\\xa0response finally to the user when it generates the answer. Thank you for learning more about RAG\\xa0and like and subscribe to the channel. Thank you.', 'title': 'What is Retrieval-Augmented Generation (RAG)?', 'description': 'Get hands on RAG training in watsonx.ai→ https://ibm.biz/BdK6UZ\\nLearn about the technology → https://ibm.biz/BdMsRT\\n\\nLarge language models usually give great answers, but because they\\'re limited to the training data used to create the model. Over time they can become incomplete--or worse, generate answers that are just plain wrong. One way of improving the LLM results is called \"retrieval-augmented generation\" or RAG. In this video, IBM Senior Research Scientist Marina Danilevsky explains the LLM/RAG framework and how this combination delivers two big advantages, namely: the model gets the most up-to-date and trustworthy facts, and you can see where the model got its info, lending more credibility to what it generates.\\n\\nGet weekly AI, cloud, security and sustainability industry news, events and insights. → https://ibm.biz/BdK6UY', 'publishedAt': '2023-08-23T11:00:32Z', 'viewCount': '799594', 'likeCount': '19886', 'commentCount': '533'}]\n"
     ]
    }
   ],
   "source": [
    "import yt_dlp\n",
    "from youtube_transcript_api import YouTubeTranscriptApi\n",
    "from googleapiclient.discovery import build\n",
    "import nbimporter\n",
    "# from pymongo import MongoClient\n",
    "import os\n",
    "from utils import load_secrets\n",
    "\n",
    "youtube_info = []\n",
    "\n",
    "secrets = load_secrets()\n",
    "YOUTUBE_API_KEY = secrets[\"api_keys\"][\"youtube\"]\n",
    "youtube = build('youtube', 'v3', developerKey=YOUTUBE_API_KEY)\n",
    "\n",
    "# MongoDB setup\n",
    "# client = MongoClient('mongodb://localhost:27017/')\n",
    "# db = client['youtube_data']\n",
    "# collection = db['video_info']\n",
    "\n",
    "def extract_video_id(url):\n",
    "    with yt_dlp.YoutubeDL() as ydl:\n",
    "        info = ydl.extract_info(url, download=False)\n",
    "        return info['id']\n",
    "\n",
    "def get_transcript(video_id):\n",
    "    try:\n",
    "        transcript = YouTubeTranscriptApi.get_transcript(video_id)\n",
    "        return ' '.join([entry['text'] for entry in transcript])\n",
    "    except Exception as e:\n",
    "        print(f\"Error getting transcript for video {video_id}: {str(e)}\")\n",
    "        return None\n",
    "\n",
    "def get_metadata(video_id):\n",
    "    try:\n",
    "        response = youtube.videos().list(\n",
    "            part='snippet,statistics',\n",
    "            id=video_id\n",
    "        ).execute()\n",
    "\n",
    "        if 'items' in response:\n",
    "            video_data = response['items'][0]\n",
    "            snippet = video_data['snippet']\n",
    "            statistics = video_data['statistics']\n",
    "\n",
    "            return {\n",
    "                'title': snippet['title'],\n",
    "                'description': snippet['description'],\n",
    "                'publishedAt': snippet['publishedAt'],\n",
    "                'viewCount': statistics['viewCount'],\n",
    "                'likeCount': statistics.get('likeCount', 0),\n",
    "                'commentCount': statistics.get('commentCount', 0)\n",
    "            }\n",
    "    except Exception as e:\n",
    "        print(f\"Error getting metadata for video {video_id}: {str(e)}\")\n",
    "        return None\n",
    "\n",
    "def process_video(url):\n",
    "    video_id = extract_video_id(url)\n",
    "    transcript = get_transcript(video_id)\n",
    "    metadata = get_metadata(video_id)\n",
    "\n",
    "    if transcript and metadata:\n",
    "        video_data = {\n",
    "            'url': url,\n",
    "            'source': 'YouTube',\n",
    "            'video_id': video_id,\n",
    "            'transcript': transcript,\n",
    "            **metadata\n",
    "        }\n",
    "        youtube_info.append(video_data)\n",
    "        # collection.insert_one(video_data)\n",
    "        print(f\"Processed and stored data for video: {video_id}\")\n",
    "    else:\n",
    "        print(f\"Failed to process video: {video_id}\")\n",
    "\n",
    "def main(urls):\n",
    "    for url in urls:\n",
    "        process_video(url)\n",
    "\n",
    "if __name__ == \"__main__\":\n",
    "    youtube_urls = [\n",
    "        'https://www.youtube.com/watch?v=T-D1OfcDW1M&ab_channel=IBMTechnology'\n",
    "    ]\n",
    "    main(youtube_urls)\n",
    "    print(youtube_info)"
   ]
  }
 ],
 "metadata": {
  "kernelspec": {
   "display_name": "Python 3",
   "language": "python",
   "name": "python3"
  },
  "language_info": {
   "codemirror_mode": {
    "name": "ipython",
    "version": 3
   },
   "file_extension": ".py",
   "mimetype": "text/x-python",
   "name": "python",
   "nbconvert_exporter": "python",
   "pygments_lexer": "ipython3",
   "version": "3.10.12"
  }
 },
 "nbformat": 4,
 "nbformat_minor": 2
}
