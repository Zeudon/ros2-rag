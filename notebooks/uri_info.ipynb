{
 "cells": [
  {
   "cell_type": "code",
   "execution_count": null,
   "metadata": {},
   "outputs": [],
   "source": [
    "from pymongo import MongoClient\n",
    "\n",
    "# MongoDB Configuration\n",
    "MONGO_URI = \"mongodb://mongodb:27017/\"\n",
    "DB_NAME = \"media_data\"\n",
    "COLLECTION_NAME = \"raw_data\"\n",
    "\n",
    "# Connect to MongoDB\n",
    "mongo_client = MongoClient(MONGO_URI)\n",
    "db = mongo_client[DB_NAME]\n",
    "collection = db[COLLECTION_NAME]\n",
    "\n",
    "# Query and Display URLs\n",
    "urls = list(collection.find({}, {\"_id\": 0, \"url\": 1}))\n",
    "print(\"Ingested URLs:\")\n",
    "for entry in urls:\n",
    "    print(entry[\"url\"])\n"
   ]
  }
 ],
 "metadata": {
  "kernelspec": {
   "display_name": "Python 3",
   "language": "python",
   "name": "python3"
  },
  "language_info": {
   "name": "python",
   "version": "3.10.12"
  }
 },
 "nbformat": 4,
 "nbformat_minor": 2
}
