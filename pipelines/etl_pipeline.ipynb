{
 "cells": [
  {
   "cell_type": "code",
   "execution_count": null,
   "metadata": {},
   "outputs": [],
   "source": [
    "from clearml import Task, PipelineController\n",
    "from pymongo import MongoClient\n",
    "import requests\n",
    "import youtube_dl"
   ]
  },
  {
   "cell_type": "code",
   "execution_count": null,
   "metadata": {},
   "outputs": [],
   "source": [
    "# MongoDB Configuration\n",
    "MONGO_URI = \"mongodb://mongodb:27017/\"\n",
    "DB_NAME = \"media_data\"\n",
    "COLLECTION_NAME = \"raw_data\"\n",
    "\n",
    "# Connect to MongoDB\n",
    "mongo_client = MongoClient(MONGO_URI)\n",
    "db = mongo_client[DB_NAME]\n",
    "collection = db[COLLECTION_NAME]"
   ]
  },
  {
   "cell_type": "code",
   "execution_count": null,
   "metadata": {},
   "outputs": [],
   "source": [
    "# ClearML Task Setup\n",
    "Task.init(project_name=\"ETL Pipeline\", task_name=\"Media Ingestion Pipeline\")"
   ]
  },
  {
   "cell_type": "code",
   "execution_count": null,
   "metadata": {},
   "outputs": [],
   "source": [
    "# Function: Ingest GitHub Documentation\n",
    "def fetch_github_docs():\n",
    "    github_urls = [\n",
    "        \"https://github.com/ros2/ros2/releases/download/release-lts/README.md\",\n",
    "        # Add more GitHub URLs for LTS releases here\n",
    "    ]\n",
    "    data = []\n",
    "    for url in github_urls:\n",
    "        response = requests.get(url)\n",
    "        if response.status_code == 200:\n",
    "            collection.insert_one({\"source\": \"GitHub\", \"url\": url, \"content\": response.text})\n",
    "            data.append(url)\n",
    "    return data"
   ]
  },
  {
   "cell_type": "code",
   "execution_count": null,
   "metadata": {},
   "outputs": [],
   "source": [
    "# Function: Fetch YouTube Videos Metadata\n",
    "def fetch_youtube_videos():\n",
    "    youtube_urls = [\n",
    "        \"https://www.youtube.com/watch?v=example1\",\n",
    "        \"https://www.youtube.com/watch?v=example2\",\n",
    "        # Add more YouTube URLs here\n",
    "    ]\n",
    "    ydl_opts = {\n",
    "        \"quiet\": True,\n",
    "        \"skip_download\": True,\n",
    "        \"writeinfojson\": True,\n",
    "    }\n",
    "    for url in youtube_urls:\n",
    "        with youtube_dl.YoutubeDL(ydl_opts) as ydl:\n",
    "            info = ydl.extract_info(url, download=False)\n",
    "            collection.insert_one({\"source\": \"YouTube\", \"url\": url, \"metadata\": info})\n",
    "    return youtube_urls"
   ]
  },
  {
   "cell_type": "code",
   "execution_count": null,
   "metadata": {},
   "outputs": [],
   "source": [
    "# Function: Query Ingested URLs\n",
    "def query_ingested_urls():\n",
    "    ingested_urls = list(collection.find({}, {\"_id\": 0, \"url\": 1}))\n",
    "    print(\"Ingested URLs:\")\n",
    "    for entry in ingested_urls:\n",
    "        print(entry[\"url\"])"
   ]
  },
  {
   "cell_type": "code",
   "execution_count": null,
   "metadata": {},
   "outputs": [],
   "source": [
    "\n",
    "# ClearML Pipeline Controller\n",
    "pipeline = PipelineController(\n",
    "    project=\"ETL Pipeline\",\n",
    "    name=\"ROS2 Media ETL\",\n",
    "    version=\"1.0\"\n",
    ")\n",
    "\n",
    "# Add pipeline steps\n",
    "pipeline.add_function_step(\n",
    "    name=\"Fetch GitHub Docs\",\n",
    "    function=fetch_github_docs\n",
    ")\n",
    "\n",
    "pipeline.add_function_step(\n",
    "    name=\"Fetch YouTube Videos\",\n",
    "    function=fetch_youtube_videos,\n",
    "    parents=[\"Fetch GitHub Docs\"]\n",
    ")\n",
    "\n",
    "pipeline.add_function_step(\n",
    "    name=\"Query Ingested URLs\",\n",
    "    function=query_ingested_urls,\n",
    "    parents=[\"Fetch YouTube Videos\"]\n",
    ")\n",
    "\n",
    "# Execute Pipeline\n",
    "if __name__ == \"__main__\":\n",
    "    pipeline.execute()"
   ]
  }
 ],
 "metadata": {
  "kernelspec": {
   "display_name": "Python 3",
   "language": "python",
   "name": "python3"
  },
  "language_info": {
   "name": "python",
   "version": "3.10.12"
  }
 },
 "nbformat": 4,
 "nbformat_minor": 2
}
