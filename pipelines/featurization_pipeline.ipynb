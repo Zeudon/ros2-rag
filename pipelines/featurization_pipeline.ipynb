{
 "cells": [
  {
   "cell_type": "code",
   "execution_count": null,
   "metadata": {},
   "outputs": [],
   "source": [
    "from clearml import PipelineController, Task\n",
    "from pymongo import MongoClient\n",
    "from qdrant_client import QdrantClient\n",
    "from sentence_transformers import SentenceTransformer\n",
    "import numpy as np"
   ]
  },
  {
   "cell_type": "code",
   "execution_count": null,
   "metadata": {},
   "outputs": [],
   "source": [
    "# MongoDB and Qdrant Configurations\n",
    "MONGO_URI = \"mongodb://mongodb:27017/\"\n",
    "DB_NAME = \"media_data\"\n",
    "COLLECTION_NAME_RAW = \"raw_data\"\n",
    "COLLECTION_NAME_FEATURIZED = \"featurized_data\"\n",
    "\n",
    "QDRANT_URL = \"http://qdrant:6333\"\n",
    "VECTOR_COLLECTION = \"rag_vectors\""
   ]
  },
  {
   "cell_type": "code",
   "execution_count": null,
   "metadata": {},
   "outputs": [],
   "source": [
    "# Connect to MongoDB\n",
    "mongo_client = MongoClient(MONGO_URI)\n",
    "db = mongo_client[DB_NAME]\n",
    "raw_collection = db[COLLECTION_NAME_RAW]\n",
    "featurized_collection = db[COLLECTION_NAME_FEATURIZED]\n",
    "\n",
    "# Connect to Qdrant\n",
    "qdrant_client = QdrantClient(url=QDRANT_URL)\n",
    "\n",
    "# Load Sentence Transformer Model\n",
    "embedding_model = SentenceTransformer(\"sentence-transformers/all-MiniLM-L6-v2\")\n",
    "\n",
    "# ClearML Task Setup\n",
    "Task.init(project_name=\"ETL Pipeline\", task_name=\"Featurization Pipeline\")"
   ]
  },
  {
   "cell_type": "code",
   "execution_count": null,
   "metadata": {},
   "outputs": [],
   "source": [
    "# Featurization Step: Generate Embeddings and Store in MongoDB and Qdrant\n",
    "def featurize_and_store():\n",
    "    # Create Qdrant collection if not exists\n",
    "    qdrant_client.recreate_collection(\n",
    "        collection_name=VECTOR_COLLECTION,\n",
    "        vectors_config={\"size\": embedding_model.get_sentence_embedding_dimension(), \"distance\": \"Cosine\"}\n",
    "    )\n",
    "    \n",
    "    # Fetch raw data from MongoDB\n",
    "    raw_data = list(raw_collection.find())\n",
    "    \n",
    "    for record in raw_data:\n",
    "        text = record.get(\"content\")\n",
    "        if not text:\n",
    "            continue\n",
    "        \n",
    "        # Generate embeddings\n",
    "        embedding = embedding_model.encode(text).tolist()\n",
    "        \n",
    "        # Store in MongoDB (backup)\n",
    "        featurized_collection.insert_one({\n",
    "            \"source\": record[\"source\"],\n",
    "            \"url\": record[\"url\"],\n",
    "            \"embedding\": embedding,\n",
    "            \"content\": text\n",
    "        })\n",
    "        \n",
    "        # Store in Qdrant\n",
    "        qdrant_client.upsert(\n",
    "            collection_name=VECTOR_COLLECTION,\n",
    "            points=[\n",
    "                {\n",
    "                    \"id\": record[\"_id\"],  # Use MongoDB ID as unique identifier\n",
    "                    \"vector\": embedding,\n",
    "                    \"payload\": {\n",
    "                        \"source\": record[\"source\"],\n",
    "                        \"url\": record[\"url\"]\n",
    "                    }\n",
    "                }\n",
    "            ]\n",
    "        )\n",
    "\n",
    "    print(\"Featurization completed. Data stored in MongoDB and Qdrant.\")"
   ]
  },
  {
   "cell_type": "code",
   "execution_count": null,
   "metadata": {},
   "outputs": [],
   "source": [
    "# ClearML Pipeline Controller\n",
    "pipeline = PipelineController(\n",
    "    project=\"ETL Pipeline\",\n",
    "    name=\"Featurization Pipeline\",\n",
    "    version=\"1.0\"\n",
    ")\n",
    "\n",
    "pipeline.add_function_step(\n",
    "    name=\"Featurize and Store\",\n",
    "    function=featurize_and_store\n",
    ")\n",
    "\n",
    "if __name__ == \"__main__\":\n",
    "    pipeline.execute()\n"
   ]
  }
 ],
 "metadata": {
  "kernelspec": {
   "display_name": "Python 3",
   "language": "python",
   "name": "python3"
  },
  "language_info": {
   "name": "python",
   "version": "3.10.12"
  }
 },
 "nbformat": 4,
 "nbformat_minor": 2
}
